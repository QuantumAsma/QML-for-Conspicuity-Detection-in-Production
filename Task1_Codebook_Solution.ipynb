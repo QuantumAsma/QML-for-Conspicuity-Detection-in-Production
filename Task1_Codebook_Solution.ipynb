{
  "nbformat": 4,
  "nbformat_minor": 0,
  "metadata": {
    "colab": {
      "provenance": []
    },
    "kernelspec": {
      "name": "python3",
      "display_name": "Python 3"
    },
    "language_info": {
      "name": "python"
    }
  },
  "cells": [
    {
      "cell_type": "code",
      "source": [
        "! pip install pennylane\n"
      ],
      "metadata": {
        "colab": {
          "base_uri": "https://localhost:8080/"
        },
        "id": "1j0lYzLWqDAs",
        "outputId": "d385db2f-1834-48e7-ac17-5aab2f1a05a1"
      },
      "execution_count": 1,
      "outputs": [
        {
          "output_type": "stream",
          "name": "stdout",
          "text": [
            "Collecting pennylane\n",
            "  Downloading PennyLane-0.37.0-py3-none-any.whl.metadata (9.3 kB)\n",
            "Requirement already satisfied: numpy<2.0 in /usr/local/lib/python3.10/dist-packages (from pennylane) (1.26.4)\n",
            "Requirement already satisfied: scipy in /usr/local/lib/python3.10/dist-packages (from pennylane) (1.13.1)\n",
            "Requirement already satisfied: networkx in /usr/local/lib/python3.10/dist-packages (from pennylane) (3.3)\n",
            "Collecting rustworkx (from pennylane)\n",
            "  Downloading rustworkx-0.15.1-cp38-abi3-manylinux_2_17_x86_64.manylinux2014_x86_64.whl.metadata (9.9 kB)\n",
            "Requirement already satisfied: autograd in /usr/local/lib/python3.10/dist-packages (from pennylane) (1.6.2)\n",
            "Requirement already satisfied: toml in /usr/local/lib/python3.10/dist-packages (from pennylane) (0.10.2)\n",
            "Collecting appdirs (from pennylane)\n",
            "  Downloading appdirs-1.4.4-py2.py3-none-any.whl.metadata (9.0 kB)\n",
            "Collecting semantic-version>=2.7 (from pennylane)\n",
            "  Downloading semantic_version-2.10.0-py2.py3-none-any.whl.metadata (9.7 kB)\n",
            "Collecting autoray>=0.6.11 (from pennylane)\n",
            "  Downloading autoray-0.6.12-py3-none-any.whl.metadata (5.7 kB)\n",
            "Requirement already satisfied: cachetools in /usr/local/lib/python3.10/dist-packages (from pennylane) (5.4.0)\n",
            "Collecting pennylane-lightning>=0.37 (from pennylane)\n",
            "  Downloading PennyLane_Lightning-0.37.0-cp310-cp310-manylinux_2_28_x86_64.whl.metadata (23 kB)\n",
            "Requirement already satisfied: requests in /usr/local/lib/python3.10/dist-packages (from pennylane) (2.32.3)\n",
            "Requirement already satisfied: typing-extensions in /usr/local/lib/python3.10/dist-packages (from pennylane) (4.12.2)\n",
            "Requirement already satisfied: packaging in /usr/local/lib/python3.10/dist-packages (from pennylane) (24.1)\n",
            "Requirement already satisfied: future>=0.15.2 in /usr/local/lib/python3.10/dist-packages (from autograd->pennylane) (1.0.0)\n",
            "Requirement already satisfied: charset-normalizer<4,>=2 in /usr/local/lib/python3.10/dist-packages (from requests->pennylane) (3.3.2)\n",
            "Requirement already satisfied: idna<4,>=2.5 in /usr/local/lib/python3.10/dist-packages (from requests->pennylane) (3.7)\n",
            "Requirement already satisfied: urllib3<3,>=1.21.1 in /usr/local/lib/python3.10/dist-packages (from requests->pennylane) (2.0.7)\n",
            "Requirement already satisfied: certifi>=2017.4.17 in /usr/local/lib/python3.10/dist-packages (from requests->pennylane) (2024.7.4)\n",
            "Downloading PennyLane-0.37.0-py3-none-any.whl (1.8 MB)\n",
            "\u001b[2K   \u001b[90m━━━━━━━━━━━━━━━━━━━━━━━━━━━━━━━━━━━━━━━━\u001b[0m \u001b[32m1.8/1.8 MB\u001b[0m \u001b[31m19.9 MB/s\u001b[0m eta \u001b[36m0:00:00\u001b[0m\n",
            "\u001b[?25hDownloading autoray-0.6.12-py3-none-any.whl (50 kB)\n",
            "\u001b[2K   \u001b[90m━━━━━━━━━━━━━━━━━━━━━━━━━━━━━━━━━━━━━━━━\u001b[0m \u001b[32m51.0/51.0 kB\u001b[0m \u001b[31m2.7 MB/s\u001b[0m eta \u001b[36m0:00:00\u001b[0m\n",
            "\u001b[?25hDownloading PennyLane_Lightning-0.37.0-cp310-cp310-manylinux_2_28_x86_64.whl (15.5 MB)\n",
            "\u001b[2K   \u001b[90m━━━━━━━━━━━━━━━━━━━━━━━━━━━━━━━━━━━━━━━━\u001b[0m \u001b[32m15.5/15.5 MB\u001b[0m \u001b[31m48.2 MB/s\u001b[0m eta \u001b[36m0:00:00\u001b[0m\n",
            "\u001b[?25hDownloading semantic_version-2.10.0-py2.py3-none-any.whl (15 kB)\n",
            "Downloading appdirs-1.4.4-py2.py3-none-any.whl (9.6 kB)\n",
            "Downloading rustworkx-0.15.1-cp38-abi3-manylinux_2_17_x86_64.manylinux2014_x86_64.whl (2.0 MB)\n",
            "\u001b[2K   \u001b[90m━━━━━━━━━━━━━━━━━━━━━━━━━━━━━━━━━━━━━━━━\u001b[0m \u001b[32m2.0/2.0 MB\u001b[0m \u001b[31m53.4 MB/s\u001b[0m eta \u001b[36m0:00:00\u001b[0m\n",
            "\u001b[?25hInstalling collected packages: appdirs, semantic-version, rustworkx, autoray, pennylane-lightning, pennylane\n",
            "Successfully installed appdirs-1.4.4 autoray-0.6.12 pennylane-0.37.0 pennylane-lightning-0.37.0 rustworkx-0.15.1 semantic-version-2.10.0\n"
          ]
        }
      ]
    },
    {
      "cell_type": "code",
      "source": [
        "!pip install matplotlib"
      ],
      "metadata": {
        "colab": {
          "base_uri": "https://localhost:8080/"
        },
        "id": "yhuoWYRQ6Hav",
        "outputId": "4254cee9-a003-4638-c3e8-05db041f9463"
      },
      "execution_count": 2,
      "outputs": [
        {
          "output_type": "stream",
          "name": "stdout",
          "text": [
            "Requirement already satisfied: matplotlib in /usr/local/lib/python3.10/dist-packages (3.7.1)\n",
            "Requirement already satisfied: contourpy>=1.0.1 in /usr/local/lib/python3.10/dist-packages (from matplotlib) (1.2.1)\n",
            "Requirement already satisfied: cycler>=0.10 in /usr/local/lib/python3.10/dist-packages (from matplotlib) (0.12.1)\n",
            "Requirement already satisfied: fonttools>=4.22.0 in /usr/local/lib/python3.10/dist-packages (from matplotlib) (4.53.1)\n",
            "Requirement already satisfied: kiwisolver>=1.0.1 in /usr/local/lib/python3.10/dist-packages (from matplotlib) (1.4.5)\n",
            "Requirement already satisfied: numpy>=1.20 in /usr/local/lib/python3.10/dist-packages (from matplotlib) (1.26.4)\n",
            "Requirement already satisfied: packaging>=20.0 in /usr/local/lib/python3.10/dist-packages (from matplotlib) (24.1)\n",
            "Requirement already satisfied: pillow>=6.2.0 in /usr/local/lib/python3.10/dist-packages (from matplotlib) (9.4.0)\n",
            "Requirement already satisfied: pyparsing>=2.3.1 in /usr/local/lib/python3.10/dist-packages (from matplotlib) (3.1.2)\n",
            "Requirement already satisfied: python-dateutil>=2.7 in /usr/local/lib/python3.10/dist-packages (from matplotlib) (2.8.2)\n",
            "Requirement already satisfied: six>=1.5 in /usr/local/lib/python3.10/dist-packages (from python-dateutil>=2.7->matplotlib) (1.16.0)\n"
          ]
        }
      ]
    },
    {
      "cell_type": "code",
      "source": [
        "import matplotlib.pyplot as plt\n",
        "import pennylane as qml\n",
        "from pennylane import numpy as np"
      ],
      "metadata": {
        "id": "OUoCr6lG6RWx"
      },
      "execution_count": 3,
      "outputs": []
    },
    {
      "cell_type": "markdown",
      "source": [
        "# Introduction to Quantum Computing"
      ],
      "metadata": {
        "id": "3lWqYWmdkfPd"
      }
    },
    {
      "cell_type": "markdown",
      "source": [
        "\n",
        "\n",
        "1.  **All About Qubits**"
      ],
      "metadata": {
        "id": "TASoPqewoJZU"
      }
    },
    {
      "cell_type": "markdown",
      "source": [
        "\n",
        "\n",
        "*   *Codercise I.1.1-Normalization of quantum states*"
      ],
      "metadata": {
        "id": "D-e0T7oOoVlv"
      }
    },
    {
      "cell_type": "code",
      "source": [
        "# Here are the vector representations of |0> and |1>, for convenience\n",
        "ket_0 = np.array([1, 0])\n",
        "ket_1 = np.array([0, 1])\n",
        "\n",
        "\n",
        "def normalize_state(alpha, beta):\n",
        "    \"\"\"Compute a normalized quantum state given arbitrary amplitudes.\n",
        "\n",
        "    Args:\n",
        "        alpha (complex): The amplitude associated with the |0> state.\n",
        "        beta (complex): The amplitude associated with the |1> state.\n",
        "\n",
        "    Returns:\n",
        "        np.array[complex]: A vector (numpy array) with 2 elements that represents\n",
        "        a normalized quantum state.\n",
        "    \"\"\"\n",
        "\n",
        "    ##################\n",
        "    # YOUR CODE HERE #\n",
        "    k= 1/(np.sqrt(np.abs(alpha)**2+np.abs(beta)**2))\n",
        "    normalize_state = k*alpha*ket_0 + k*beta*ket_1\n",
        "    return normalize_state\n",
        "\n",
        "\n",
        "\n",
        "\n",
        "\n",
        "\n",
        "\n",
        "\n",
        "    ##################\n",
        "\n",
        "    # CREATE A VECTOR [a', b'] BASED ON alpha AND beta SUCH THAT |a'|^2 + |b'|^2 = 1\n",
        "\n",
        "    # RETURN A VECTOR\n",
        "    pass"
      ],
      "metadata": {
        "id": "Q4HuQKtMpqFi"
      },
      "execution_count": null,
      "outputs": []
    },
    {
      "cell_type": "markdown",
      "source": [
        "\n",
        "\n",
        "*   *Codercise I.1.2-Inner Product and orthonormal bases*"
      ],
      "metadata": {
        "id": "i3PrQozM1E9p"
      }
    },
    {
      "cell_type": "code",
      "source": [
        "def inner_product(state_1, state_2):\n",
        "    \"\"\"Compute the inner product between two states.\n",
        "\n",
        "    Args:\n",
        "        state_1 (np.array[complex]): A normalized quantum state vector\n",
        "        state_2 (np.array[complex]): A second normalized quantum state vector\n",
        "\n",
        "    Returns:\n",
        "        complex: The value of the inner product <state_1 | state_2>.\n",
        "    \"\"\"\n",
        "\n",
        "    ##################\n",
        "    # YOUR CODE HERE #\n",
        "    inner = (np.conj(state_1[0]))*state_2[0]+(np.conj(state_1[1]))*state_2[1]\n",
        "    ##################\n",
        "\n",
        "    # COMPUTE AND RETURN THE INNER PRODUCT\n",
        "\n",
        "\n",
        "    return inner\n",
        "\n",
        "\n",
        "# Test your results with this code\n",
        "ket_0 = np.array([1, 0])\n",
        "ket_1 = np.array([0, 1])\n",
        "\n",
        "print(f\"<0|0> = {inner_product(ket_0, ket_0)}\")\n",
        "print(f\"<0|1> = {inner_product(ket_0, ket_1)}\")\n",
        "print(f\"<1|0> = {inner_product(ket_1, ket_0)}\")\n",
        "print(f\"<1|1> = {inner_product(ket_1, ket_1)}\")\n"
      ],
      "metadata": {
        "colab": {
          "base_uri": "https://localhost:8080/"
        },
        "id": "aOwyrKbd1gSt",
        "outputId": "801dc329-6599-4435-cb53-f18ffb179149"
      },
      "execution_count": null,
      "outputs": [
        {
          "output_type": "stream",
          "name": "stdout",
          "text": [
            "<0|0> = 1\n",
            "<0|1> = 0\n",
            "<1|0> = 0\n",
            "<1|1> = 1\n"
          ]
        }
      ]
    },
    {
      "cell_type": "markdown",
      "source": [
        "\n",
        "\n",
        "*   *Sampling measurement outcomes*"
      ],
      "metadata": {
        "id": "hrW0OB3Q1uDY"
      }
    },
    {
      "cell_type": "code",
      "source": [
        "def measure_state(state, num_meas):\n",
        "    \"\"\"Simulate a quantum measurement process.\n",
        "\n",
        "    Args:\n",
        "        state (np.array[complex]): A normalized qubit state vector.\n",
        "        num_meas (int): The number of measurements to take\n",
        "\n",
        "    Returns:\n",
        "        np.array[int]: A set of num_meas samples, 0 or 1, chosen according to the probability\n",
        "        distribution defined by the input state.\n",
        "    \"\"\"\n",
        "\n",
        "    ##################\n",
        "    # YOUR CODE HERE #\n",
        "    Prob_1=np.real((np.conj(state[0])*state[0]))\n",
        "    Prob_2=np.real((np.conj(state[1])*state[1]))\n",
        "    result=np.random.choice([0,1], num_meas, p=[Prob_1, Prob_2])\n",
        "    return result\n",
        "   ##################\n",
        "\n",
        "    # COMPUTE THE MEASUREMENT OUTCOME PROBABILITIES\n",
        "\n",
        "    # RETURN A LIST OF SAMPLE MEASUREMENT OUTCOMES\n",
        "\n",
        "    pass"
      ],
      "metadata": {
        "id": "Y9MuB2ga169k"
      },
      "execution_count": null,
      "outputs": []
    },
    {
      "cell_type": "markdown",
      "source": [
        "\n",
        "\n",
        "*   *Applying a quantum operation*"
      ],
      "metadata": {
        "id": "9S3WZsMx2DD3"
      }
    },
    {
      "cell_type": "code",
      "source": [
        "U = np.array([[1, 1], [1, -1]]) / np.sqrt(2)\n",
        "\n",
        "\n",
        "def apply_u(state):\n",
        "    \"\"\"Apply a quantum operation.\n",
        "\n",
        "    Args:\n",
        "        state (np.array[complex]): A normalized quantum state vector.\n",
        "\n",
        "    Returns:\n",
        "        np.array[complex]: The output state after applying U.\n",
        "    \"\"\"\n",
        "\n",
        "    ##################\n",
        "    # YOUR CODE HERE #\n",
        "    ##################\n",
        "    apply_u= U.dot(state)\n",
        "    return apply_u\n",
        "\n",
        "\n",
        "    # APPLY U TO THE INPUT STATE AND RETURN THE NEW STATE\n",
        "    pass"
      ],
      "metadata": {
        "id": "2UF1xkk42P0M"
      },
      "execution_count": null,
      "outputs": []
    },
    {
      "cell_type": "markdown",
      "source": [
        "\n",
        "\n",
        "*   *A simple quantum algorithm*"
      ],
      "metadata": {
        "id": "yNcGiSKX2Zkn"
      }
    },
    {
      "cell_type": "code",
      "source": [
        "U = np.array([[1, 1], [1, -1]]) / np.sqrt(2)\n",
        "\n",
        "\n",
        "def initialize_state():\n",
        "    \"\"\"Prepare a qubit in state |0>.\n",
        "\n",
        "    Returns:\n",
        "        np.array[float]: the vector representation of state |0>.\n",
        "    \"\"\"\n",
        "\n",
        "    ##################\n",
        "    # YOUR CODE HERE #\n",
        "    ##################\n",
        "    initialize_state= np.array([1, 0])\n",
        "    return initialize_state\n",
        "    # PREPARE THE STATE |0>\n",
        "    pass\n",
        "\n",
        "\n",
        "def apply_u(state):\n",
        "    \"\"\"Apply a quantum operation.\"\"\"\n",
        "    return np.dot(U, state)\n",
        "\n",
        "\n",
        "def measure_state(state, num_meas):\n",
        "    \"\"\"Measure a quantum state num_meas times.\"\"\"\n",
        "    p_alpha = np.abs(state[0]) ** 2\n",
        "    p_beta = np.abs(state[1]) ** 2\n",
        "    meas_outcome = np.random.choice([0, 1], p=[p_alpha, p_beta], size=num_meas)\n",
        "    return meas_outcome\n",
        "\n",
        "\n",
        "def quantum_algorithm():\n",
        "    \"\"\"Use the functions above to implement the quantum algorithm described above.\n",
        "\n",
        "    Try and do so using three lines of code or less!\n",
        "\n",
        "    Returns:\n",
        "        np.array[int]: the measurement results after running the algorithm 100 times\n",
        "    \"\"\"\n",
        "\n",
        "    ##################\n",
        "    # YOUR CODE HERE #\n",
        "    state=initialize_state()\n",
        "    apply_u= np.dot(U, state)\n",
        "    return measure_state(state, 100)\n",
        "    ##################\n",
        "\n",
        "    # PREPARE THE STATE, APPLY U, THEN TAKE 100 MEASUREMENT SAMPLES\n",
        "    pass\n"
      ],
      "metadata": {
        "id": "BJfikRTi2lRZ"
      },
      "execution_count": null,
      "outputs": []
    },
    {
      "cell_type": "markdown",
      "source": [
        "\n",
        "\n",
        "2.   **Quantum Circuits**"
      ],
      "metadata": {
        "id": "oVmSdzn-3C0m"
      }
    },
    {
      "cell_type": "markdown",
      "source": [
        "\n",
        "\n",
        "*  *Codercise I.2.1- Order of operations*"
      ],
      "metadata": {
        "id": "RMox3jVU3MM0"
      }
    },
    {
      "cell_type": "code",
      "source": [
        "def my_circuit(theta, phi):\n",
        "    ##################\n",
        "    # YOUR CODE HERE #\n",
        "    ##################\n",
        "    qml.CNOT(wires=[0, 1])\n",
        "    qml.RX(theta, wires = 2)\n",
        "    qml.Hadamard(wires = 0)\n",
        "    qml.CNOT(wires = [2, 0])\n",
        "    qml.RY(phi, wires = 1)\n",
        "\n",
        "    # REORDER THESE 5 GATES TO MATCH THE CIRCUIT IN THE PICTURE\n",
        "\n",
        "   # qml.CNOT(wires=[0, 1])\n",
        "   # qml.CNOT(wires=[2, 0])\n",
        "   # qml.Hadamard(wires=0)\n",
        "   # qml.RX(theta, wires=2)\n",
        "   # qml.RY(phi, wires=1)\n",
        "\n",
        "    # This is the measurement; we return the probabilities of all possible output states\n",
        "    # You'll learn more about what types of measurements are available in a later node\n",
        "    return qml.probs(wires=[0, 1, 2])\n"
      ],
      "metadata": {
        "id": "xi2QJU2W35b2"
      },
      "execution_count": null,
      "outputs": []
    },
    {
      "cell_type": "markdown",
      "source": [
        "\n",
        "\n",
        "*   *Codercise I.2.2 -Building a QNode*"
      ],
      "metadata": {
        "id": "Q2_UqxcG4CNh"
      }
    },
    {
      "cell_type": "code",
      "source": [
        "# This creates a device with three wires on which PennyLane can run computations\n",
        "dev = qml.device(\"default.qubit\", wires=3)\n",
        "\n",
        "\n",
        "def my_circuit(theta, phi, omega):\n",
        "\n",
        "    ##################\n",
        "    # YOUR CODE HERE #\n",
        "    ##################\n",
        "\n",
        "    qml.RX(theta, wires = 0)\n",
        "    qml.RY(phi, wires = 1)\n",
        "    qml.RZ(omega, wires = 2)\n",
        "    qml.CNOT(wires=[0, 1])\n",
        "    qml.CNOT(wires=[1, 2])\n",
        "    qml.CNOT(wires=[2, 0])\n",
        "\n",
        "    # IMPLEMENT THE CIRCUIT BY ADDING THE GATES\n",
        "\n",
        "    # Here are two examples, so you can see the format:\n",
        "    # qml.CNOT(wires=[0, 1])\n",
        "    # qml.RX(theta, wires=0)\n",
        "\n",
        "    return qml.probs(wires=[0, 1, 2])\n",
        "\n",
        "\n",
        "# This creates a QNode, binding the function and device\n",
        "my_qnode = qml.QNode(my_circuit, dev)\n",
        "\n",
        "# We set up some values for the input parameters\n",
        "theta, phi, omega = 0.1, 0.2, 0.3\n",
        "\n",
        "# Now we can execute the QNode by calling it like we would a regular function\n",
        "my_qnode(theta, phi, omega)\n"
      ],
      "metadata": {
        "colab": {
          "base_uri": "https://localhost:8080/"
        },
        "id": "y-8ZkTRmVEo2",
        "outputId": "5322fc21-c4b6-4125-9b32-7d37e6feb950"
      },
      "execution_count": null,
      "outputs": [
        {
          "output_type": "execute_result",
          "data": {
            "text/plain": [
              "tensor([9.87560268e-01, 0.00000000e+00, 0.00000000e+00, 2.47302134e-03,\n",
              "        2.48960206e-05, 0.00000000e+00, 0.00000000e+00, 9.94181506e-03], requires_grad=True)"
            ]
          },
          "metadata": {},
          "execution_count": 12
        }
      ]
    },
    {
      "cell_type": "markdown",
      "source": [
        "\n",
        "\n",
        "*   *Codercise I.2.3 -The QNode decorator*"
      ],
      "metadata": {
        "id": "UTHJsYb94nt7"
      }
    },
    {
      "cell_type": "code",
      "source": [
        "dev = qml.device(\"default.qubit\", wires=3)\n",
        "\n",
        "##################\n",
        "# YOUR CODE HERE #\n",
        "##################\n",
        "@qml.qnode(dev)\n",
        "# DECORATE THE FUNCTION BELOW TO TURN IT INTO A QNODE\n",
        "\n",
        "\n",
        "def my_circuit(theta, phi, omega):\n",
        "    qml.RX(theta, wires=0)\n",
        "    qml.RY(phi, wires=1)\n",
        "    qml.RZ(omega, wires=2)\n",
        "    qml.CNOT(wires=[0, 1])\n",
        "    qml.CNOT(wires=[1, 2])\n",
        "    qml.CNOT(wires=[2, 0])\n",
        "    return qml.probs(wires=[0, 1, 2])\n",
        "\n",
        "\n",
        "theta, phi, omega = 0.1, 0.2, 0.3\n",
        "\n",
        "##################\n",
        "# YOUR CODE HERE #\n",
        "##################\n",
        "\n",
        "# RUN THE QNODE WITH THE PROVIDED PARAMETERS"
      ],
      "metadata": {
        "id": "l9SLB5pHVR9k"
      },
      "execution_count": null,
      "outputs": []
    },
    {
      "cell_type": "markdown",
      "source": [
        "\n",
        "\n",
        "*   *Codercise I.2.4 -Circuit depth*"
      ],
      "metadata": {
        "id": "AVukgzaR5AKU"
      }
    },
    {
      "cell_type": "code",
      "source": [
        "dev = qml.device(\"default.qubit\", wires=3)\n",
        "\n",
        "\n",
        "@qml.qnode(dev)\n",
        "def my_circuit(theta, phi, omega):\n",
        "    qml.RX(theta, wires=0)\n",
        "    qml.RY(phi, wires=1)\n",
        "    qml.RZ(omega, wires=2)\n",
        "    qml.CNOT(wires=[0, 1])\n",
        "    qml.CNOT(wires=[1, 2])\n",
        "    qml.CNOT(wires=[2, 0])\n",
        "    return qml.probs(wires=[0, 1, 2])\n",
        "\n",
        "\n",
        "##################\n",
        "# YOUR CODE HERE #\n",
        "##################\n",
        "# FILL IN THE CORRECT CIRCUIT DEPTH\n",
        "depth =4"
      ],
      "metadata": {
        "id": "sCSNUL02VdPB"
      },
      "execution_count": null,
      "outputs": []
    },
    {
      "cell_type": "markdown",
      "source": [
        "\n",
        "\n",
        "3.  **Unitary Matrices**"
      ],
      "metadata": {
        "id": "No5Kcl0L5X6w"
      }
    },
    {
      "cell_type": "markdown",
      "source": [
        "\n",
        "\n",
        "*   *Codercise I.3.1 -Unitary in Pennylane*"
      ],
      "metadata": {
        "id": "kt0Spxkx54hw"
      }
    },
    {
      "cell_type": "code",
      "source": [
        "dev = qml.device(\"default.qubit\", wires=1)\n",
        "\n",
        "U = np.array([[1, 1], [1, -1]]) / np.sqrt(2)\n",
        "\n",
        "\n",
        "@qml.qnode(dev)\n",
        "def apply_u():\n",
        "\n",
        "    ##################\n",
        "    # YOUR CODE HERE #\n",
        "    ##################\n",
        "    qml.QubitUnitary(U, wires=0)\n",
        "    # USE QubitUnitary TO APPLY U TO THE QUBIT\n",
        "\n",
        "    # Return the state\n",
        "    return qml.state()\n"
      ],
      "metadata": {
        "id": "nNWYXnN-W49-"
      },
      "execution_count": null,
      "outputs": []
    },
    {
      "cell_type": "markdown",
      "source": [
        "\n",
        "\n",
        "*   *Codercise I.3.2 -Parametrized unitaries*"
      ],
      "metadata": {
        "id": "9dU5_BeD6Twy"
      }
    },
    {
      "cell_type": "code",
      "source": [
        "dev = qml.device(\"default.qubit\", wires=1)\n",
        "\n",
        "\n",
        "@qml.qnode(dev)\n",
        "def apply_u_as_rot(phi, theta, omega):\n",
        "\n",
        "    ##################\n",
        "    # YOUR CODE HERE #\n",
        "    ##################\n",
        "    state= qml.Rot(phi, theta, omega, 0)\n",
        "    # APPLY A ROT GATE USING THE PROVIDED INPUT PARAMETERS\n",
        "\n",
        "    # RETURN THE QUANTUM STATE VECTOR\n",
        "\n",
        "    return qml.state()"
      ],
      "metadata": {
        "id": "Q_AXWyY0XJmN"
      },
      "execution_count": null,
      "outputs": []
    },
    {
      "cell_type": "markdown",
      "source": [
        "# Single-Qubit Gates"
      ],
      "metadata": {
        "id": "nFJQJqko7DyL"
      }
    },
    {
      "cell_type": "markdown",
      "source": [
        "\n",
        "\n",
        "1.  **X and H**"
      ],
      "metadata": {
        "id": "YJeBGx7I7PA4"
      }
    },
    {
      "cell_type": "markdown",
      "source": [
        "\n",
        "\n",
        "*  *Codercise I.4.1 -Flipping bits*"
      ],
      "metadata": {
        "id": "G1yKDdIQ7emC"
      }
    },
    {
      "cell_type": "code",
      "source": [
        "dev = qml.device(\"default.qubit\", wires=1)\n",
        "\n",
        "U = np.array([[1, 1], [1, -1]]) / np.sqrt(2)\n",
        "\n",
        "\n",
        "@qml.qnode(dev)\n",
        "def varied_initial_state(state):\n",
        "    \"\"\"Complete the function such that we can apply the operation U to\n",
        "    either |0> or |1> depending on the input argument flag.\n",
        "\n",
        "    Args:\n",
        "        state (int): Either 0 or 1. If 1, prepare the qubit in state |1>,\n",
        "            otherwise, leave it in state 0.\n",
        "\n",
        "    Returns:\n",
        "        np.array[complex]: The state of the qubit after the operations.\n",
        "    \"\"\"\n",
        "    ##################\n",
        "    # YOUR CODE HERE #\n",
        "    ##################\n",
        "    if state ==1:\n",
        "        qml.PauliX(0)\n",
        "    qml.QubitUnitary(U, 0)\n",
        "\n",
        "    # KEEP THE QUBIT IN |0> OR CHANGE IT TO |1> DEPENDING ON THE state PARAMETER\n",
        "\n",
        "    # APPLY U TO THE STATE\n",
        "\n",
        "    return qml.state()"
      ],
      "metadata": {
        "id": "FykGfe1_kvVb"
      },
      "execution_count": null,
      "outputs": []
    },
    {
      "cell_type": "markdown",
      "source": [
        "\n",
        "\n",
        "*   *Codercise I.4.2 -Uniform superposition*"
      ],
      "metadata": {
        "id": "ZZWkeqRq780l"
      }
    },
    {
      "cell_type": "code",
      "source": [
        "dev = qml.device(\"default.qubit\", wires=1)\n",
        "\n",
        "\n",
        "@qml.qnode(dev)\n",
        "def apply_hadamard():\n",
        "    ##################\n",
        "    # YOUR CODE HERE #\n",
        "    ##################\n",
        "    qml.Hadamard(0)\n",
        "    # APPLY THE HADAMARD GATE\n",
        "\n",
        "    # RETURN THE STATE\n",
        "    return qml.state()"
      ],
      "metadata": {
        "id": "_Sh02r0Zk8HF"
      },
      "execution_count": null,
      "outputs": []
    },
    {
      "cell_type": "markdown",
      "source": [
        "\n",
        "\n",
        "*   *Codercise I.4.3 -Combining X and H*\n"
      ],
      "metadata": {
        "id": "vEvnbQv88UCs"
      }
    },
    {
      "cell_type": "code",
      "source": [
        "dev = qml.device(\"default.qubit\", wires=1)\n",
        "\n",
        "\n",
        "@qml.qnode(dev)\n",
        "def apply_hadamard_to_state(state):\n",
        "    \"\"\"Complete the function such that we can apply the Hadamard to\n",
        "    either |0> or |1> depending on the input argument flag.\n",
        "\n",
        "    Args:\n",
        "        state (int): Either 0 or 1. If 1, prepare the qubit in state |1>,\n",
        "            otherwise, leave it in state 0.\n",
        "\n",
        "    Returns:\n",
        "        np.array[complex]: The state of the qubit after the operations.\n",
        "    \"\"\"\n",
        "    ##################\n",
        "    # YOUR CODE HERE #\n",
        "    ##################\n",
        "    if state ==1:\n",
        "        qml.PauliX(0)\n",
        "    qml.Hadamard(0)\n",
        "    # KEEP THE QUBIT IN |0> OR CHANGE IT TO |1> DEPENDING ON state\n",
        "\n",
        "    # APPLY THE HADAMARD\n",
        "\n",
        "    # RETURN THE STATE\n",
        "\n",
        "    return qml.state()\n",
        "\n",
        "\n",
        "print(apply_hadamard_to_state(0))\n",
        "print(apply_hadamard_to_state(1))"
      ],
      "metadata": {
        "colab": {
          "base_uri": "https://localhost:8080/"
        },
        "id": "sf8xMhqplKA_",
        "outputId": "775d9f18-4f81-4f9d-bd26-e2e2c47732b7"
      },
      "execution_count": null,
      "outputs": [
        {
          "output_type": "stream",
          "name": "stdout",
          "text": [
            "[0.70710678+0.j 0.70710678+0.j]\n",
            "[ 0.70710678+0.j -0.70710678+0.j]\n"
          ]
        }
      ]
    },
    {
      "cell_type": "markdown",
      "source": [
        "\n",
        "\n",
        "*  *Codercise I.4.4 -A QNode with X and H*"
      ],
      "metadata": {
        "id": "r4_g9GLx8ovK"
      }
    },
    {
      "cell_type": "code",
      "source": [
        "##################\n",
        "# YOUR CODE HERE #\n",
        "##################\n",
        "dev = qml.device(\"default.qubit\", wires=1)\n",
        "\n",
        "@qml.qnode(dev)\n",
        "def apply_hxh(state):\n",
        "    if state== 1:\n",
        "        qml.PauliX(0)\n",
        "    qml.Hadamard(0)\n",
        "    qml.PauliX(0)\n",
        "    qml.Hadamard(0)\n",
        "\n",
        "    return qml.state()\n",
        "\n",
        "# CREATE A DEVICE\n",
        "\n",
        "# CREATE A QNODE CALLED apply_hxh THAT APPLIES THE CIRCUIT ABOVE\n",
        "\n",
        "# Print your results\n",
        "print(apply_hxh(0))\n",
        "print(apply_hxh(1))"
      ],
      "metadata": {
        "colab": {
          "base_uri": "https://localhost:8080/"
        },
        "id": "SGTyzTWelT4i",
        "outputId": "2630ab66-6d11-494d-8d75-cf475f216204"
      },
      "execution_count": null,
      "outputs": [
        {
          "output_type": "stream",
          "name": "stdout",
          "text": [
            "[1.+0.j 0.+0.j]\n",
            "[ 0.+0.j -1.+0.j]\n"
          ]
        }
      ]
    },
    {
      "cell_type": "markdown",
      "source": [
        "\n",
        "\n",
        "2.   **It's Just a Phase**"
      ],
      "metadata": {
        "id": "ZRlIX2JJ9NWY"
      }
    },
    {
      "cell_type": "markdown",
      "source": [
        "\n",
        "\n",
        "*   *Codercise I.5.1 -The Pauli Z gate*\n"
      ],
      "metadata": {
        "id": "q9wAKoLU9tQY"
      }
    },
    {
      "cell_type": "code",
      "source": [
        "dev = qml.device(\"default.qubit\", wires=1)\n",
        "\n",
        "\n",
        "@qml.qnode(dev)\n",
        "def apply_z_to_plus():\n",
        "    \"\"\"Write a circuit that applies PauliZ to the |+> state and returns\n",
        "    the state.\n",
        "\n",
        "    Returns:\n",
        "        np.array[complex]: The state of the qubit after the operations.\n",
        "    \"\"\"\n",
        "\n",
        "    ##################\n",
        "    # YOUR CODE HERE #\n",
        "    ##################\n",
        "    qml.Hadamard(0)\n",
        "    qml.PauliZ(0)\n",
        "\n",
        "    # CREATE THE |+> STATE\n",
        "\n",
        "    # APPLY PAULI Z\n",
        "\n",
        "    # RETURN THE STATE\n",
        "    return qml.state()\n",
        "\n",
        "\n",
        "print(apply_z_to_plus())"
      ],
      "metadata": {
        "colab": {
          "base_uri": "https://localhost:8080/"
        },
        "id": "VK_VeSuCloCL",
        "outputId": "a09bd5a5-4c0c-4381-d64e-ad9c99194e76"
      },
      "execution_count": null,
      "outputs": [
        {
          "output_type": "stream",
          "name": "stdout",
          "text": [
            "[ 0.70710678+0.j -0.70710678+0.j]\n"
          ]
        }
      ]
    },
    {
      "cell_type": "markdown",
      "source": [
        "\n",
        "\n",
        "*   *Codercise I.5.2 -The Z rotation*"
      ],
      "metadata": {
        "id": "uT7rQE7V-fng"
      }
    },
    {
      "cell_type": "code",
      "source": [
        "dev = qml.device(\"default.qubit\", wires=1)\n",
        "\n",
        "\n",
        "@qml.qnode(dev)\n",
        "def fake_z():\n",
        "    \"\"\"Use RZ to produce the same action as Pauli Z on the |+> state.\n",
        "\n",
        "    Returns:\n",
        "        np.array[complex]: The state of the qubit after the operations.\n",
        "    \"\"\"\n",
        "\n",
        "    ##################\n",
        "    # YOUR CODE HERE #\n",
        "    ##################\n",
        "    qml.Hadamard(0)\n",
        "    qml.RZ(np.pi, 0)\n",
        "    # CREATE THE |+> STATE\n",
        "\n",
        "    # APPLY RZ\n",
        "\n",
        "    # RETURN THE STATE\n",
        "    return qml.state()"
      ],
      "metadata": {
        "id": "IVvlY3Ailzzj"
      },
      "execution_count": null,
      "outputs": []
    },
    {
      "cell_type": "markdown",
      "source": [
        "\n",
        "\n",
        "*  Codercise I.5.3 -The S and T gate"
      ],
      "metadata": {
        "id": "9zQywMTQ-yI9"
      }
    },
    {
      "cell_type": "code",
      "source": [
        "dev = qml.device(\"default.qubit\", wires=1)\n",
        "\n",
        "\n",
        "@qml.qnode(dev)\n",
        "def many_rotations():\n",
        "    \"\"\"Implement the circuit depicted above and return the quantum state.\n",
        "\n",
        "    Returns:\n",
        "        np.array[complex]: The state of the qubit after the operations.\n",
        "    \"\"\"\n",
        "\n",
        "    ##################\n",
        "    # YOUR CODE HERE #\n",
        "    ##################\n",
        "    qml.Hadamard(0)\n",
        "    qml.S(0)\n",
        "    qml.adjoint(qml.T(0))\n",
        "    qml.RZ(0.3, 0)\n",
        "    qml.adjoint(qml.S(0))\n",
        "\n",
        "    # IMPLEMENT THE CIRCUIT\n",
        "\n",
        "    # RETURN THE STATE\n",
        "\n",
        "    return qml.state()\n"
      ],
      "metadata": {
        "id": "x1DJFhxml_Cp"
      },
      "execution_count": null,
      "outputs": []
    },
    {
      "cell_type": "markdown",
      "source": [
        "\n",
        "\n",
        "3.  **From a Different Angle**"
      ],
      "metadata": {
        "id": "3dnFZElw_Whn"
      }
    },
    {
      "cell_type": "markdown",
      "source": [
        "\n",
        "\n",
        "*   *Codercise I.6.1 -Applying RX*"
      ],
      "metadata": {
        "id": "PLUQxCq2_sWA"
      }
    },
    {
      "cell_type": "code",
      "source": [
        "dev = qml.device(\"default.qubit\", wires=1)\n",
        "\n",
        "\n",
        "@qml.qnode(dev)\n",
        "def apply_rx_pi(state):\n",
        "    \"\"\"Apply an RX gate with an angle of \\pi to a particular basis state.\n",
        "\n",
        "    Args:\n",
        "        state (int): Either 0 or 1. If 1, initialize the qubit to state |1>\n",
        "            before applying other operations.\n",
        "\n",
        "    Returns:\n",
        "        np.array[complex]: The state of the qubit after the operations.\n",
        "    \"\"\"\n",
        "    if state == 1:\n",
        "        qml.PauliX(wires=0)\n",
        "\n",
        "    ##################\n",
        "    # YOUR CODE HERE #\n",
        "    ##################\n",
        "    qml.RX(np.pi, 0)\n",
        "    # APPLY RX(pi) AND RETURN THE STATE\n",
        "\n",
        "    return qml.state()\n",
        "\n",
        "\n",
        "print(apply_rx_pi(0))\n",
        "print(apply_rx_pi(1))"
      ],
      "metadata": {
        "colab": {
          "base_uri": "https://localhost:8080/"
        },
        "id": "1GOliH0SmRLA",
        "outputId": "574bf126-3e3b-4413-ab49-121c6a76dab8"
      },
      "execution_count": null,
      "outputs": [
        {
          "output_type": "stream",
          "name": "stdout",
          "text": [
            "[6.123234e-17+0.j 0.000000e+00-1.j]\n",
            "[0.000000e+00-1.j 6.123234e-17+0.j]\n"
          ]
        }
      ]
    },
    {
      "cell_type": "markdown",
      "source": [
        "\n",
        "\n",
        "*  Codercise I.6.2 -Plotting RX"
      ],
      "metadata": {
        "id": "HYsMdCNkAPAn"
      }
    },
    {
      "cell_type": "code",
      "source": [
        "dev = qml.device(\"default.qubit\", wires=1)\n",
        "\n",
        "\n",
        "@qml.qnode(dev)\n",
        "def apply_ry(theta, state):\n",
        "    \"\"\"Apply an RY gate with an angle of theta to a particular basis state.\n",
        "\n",
        "    Args:\n",
        "        theta (float): A rotation angle.\n",
        "        state (int): Either 0 or 1. If 1, initialize the qubit to state |1>\n",
        "            before applying other operations.\n",
        "\n",
        "    Returns:\n",
        "        np.array[complex]: The state of the qubit after the operations.\n",
        "    \"\"\"\n",
        "    if state == 1:\n",
        "        qml.PauliX(wires=0)\n",
        "\n",
        "    ##################\n",
        "    # YOUR CODE HERE #\n",
        "    ##################\n",
        "\n",
        "    # APPLY RY(theta) AND RETURN THE STATE\n",
        "    qml.RY(theta, 0)\n",
        "    return qml.state()\n",
        "\n",
        "\n",
        "# Code for plotting\n",
        "angles = np.linspace(0, 4 * np.pi, 200)\n",
        "output_states = np.array([apply_ry(t, 0) for t in angles])\n",
        "\n",
        "plot = plotter(angles, output_states)"
      ],
      "metadata": {
        "colab": {
          "base_uri": "https://localhost:8080/",
          "height": 564
        },
        "id": "fqC05N8GmrL4",
        "outputId": "f11ce902-7aff-4d2e-9818-ef2ea1ade980"
      },
      "execution_count": null,
      "outputs": [
        {
          "output_type": "display_data",
          "data": {
            "text/plain": [
              "<Figure size 800x600 with 1 Axes>"
            ],
            "image/png": "[encoded data removed]"
          },
          "metadata": {}
        }
      ]
    },
    {
      "cell_type": "markdown",
      "source": [
        "\n",
        "\n",
        "*   *Codercise I.6.3 -Plotting RY*"
      ],
      "metadata": {
        "id": "0JT0LnqI9n7v"
      }
    },
    {
      "cell_type": "code",
      "source": [
        "dev = qml.device(\"default.qubit\", wires=1)\n",
        "\n",
        "\n",
        "@qml.qnode(dev)\n",
        "def apply_ry(theta, state):\n",
        "    \"\"\"Apply an RY gate with an angle of theta to a particular basis state.\n",
        "\n",
        "    Args:\n",
        "        theta (float): A rotation angle.\n",
        "        state (int): Either 0 or 1. If 1, initialize the qubit to state |1>\n",
        "            before applying other operations.\n",
        "\n",
        "    Returns:\n",
        "        np.array[complex]: The state of the qubit after the operations.\n",
        "    \"\"\"\n",
        "    if state == 1:\n",
        "        qml.PauliX(wires=0)\n",
        "\n",
        "    ##################\n",
        "    # YOUR CODE HERE #\n",
        "    ##################\n",
        "\n",
        "    # APPLY RY(theta) AND RETURN THE STATE\n",
        "    qml.RY(theta, 0)\n",
        "    return qml.state()\n",
        "\n",
        "\n",
        "# Code for plotting\n",
        "angles = np.linspace(0, 4 * np.pi, 200)\n",
        "output_states = np.array([apply_ry(t, 0) for t in angles])\n",
        "\n",
        "plot = plotter(angles, output_states)\n"
      ],
      "metadata": {
        "colab": {
          "base_uri": "https://localhost:8080/",
          "height": 564
        },
        "id": "dYo-pqvv-E76",
        "outputId": "204de2d8-d796-45f7-bb35-575b8641a8f3"
      },
      "execution_count": null,
      "outputs": [
        {
          "output_type": "display_data",
          "data": {
            "text/plain": [
              "<Figure size 800x600 with 1 Axes>"
            ],
            "image/png": "[encoded data removed]"
          },
          "metadata": {}
        }
      ]
    },
    {
      "cell_type": "markdown",
      "source": [
        "\n",
        "\n",
        "4.   **Universal Gate Sets**"
      ],
      "metadata": {
        "id": "K3aBAVneApz7"
      }
    },
    {
      "cell_type": "markdown",
      "source": [
        "\n",
        "\n",
        "*  *Codercise I.7.1 -Universality of rotations*\n"
      ],
      "metadata": {
        "id": "G_Q5T7veErJZ"
      }
    },
    {
      "cell_type": "code",
      "source": [
        "dev = qml.device(\"default.qubit\", wires=1)\n",
        "\n",
        "##################\n",
        "# YOUR CODE HERE #\n",
        "##################\n",
        "\n",
        "# ADJUST THE VALUES OF PHI, THETA, AND OMEGA\n",
        "phi, theta, omega = np.pi/2, np.pi/2, np.pi/2\n",
        "\n",
        "\n",
        "@qml.qnode(dev)\n",
        "def hadamard_with_rz_rx():\n",
        "    qml.RZ(phi, wires=0)\n",
        "    qml.RX(theta, wires=0)\n",
        "    qml.RZ(omega, wires=0)\n",
        "    return qml.state()"
      ],
      "metadata": {
        "id": "x6tF-31Vng1d"
      },
      "execution_count": null,
      "outputs": []
    },
    {
      "cell_type": "markdown",
      "source": [
        "\n",
        "\n",
        "*   *Codercise I.7.2 -Synthesizing a circuit*"
      ],
      "metadata": {
        "id": "p4bnpPf7FIIn"
      }
    },
    {
      "cell_type": "code",
      "source": [
        "dev = qml.device(\"default.qubit\", wires=1)\n",
        "\n",
        "\n",
        "@qml.qnode(dev)\n",
        "def convert_to_rz_rx():\n",
        "    ##################\n",
        "    # YOUR CODE HERE #\n",
        "    ##################\n",
        "    #hadamard gate\n",
        "    qml.RZ(np.pi/2, wires=0)\n",
        "    qml.RX(np.pi/2, wires=0)\n",
        "    qml.RZ(np.pi/2, wires=0)\n",
        "    # S gate\n",
        "    qml.RZ(np.pi/2, wires=0)\n",
        "    # adjoint T gate\n",
        "    qml.RZ(-np.pi/4, wires=0)\n",
        "\n",
        "    # Y gate\n",
        "\n",
        "    qml.RX(np.pi, wires=0)\n",
        "    qml.RZ(np.pi, wires=0)\n",
        "\n",
        "    # IMPLEMENT THE CIRCUIT IN THE PICTURE USING ONLY RZ AND RX\n",
        "\n",
        "    return qml.state()"
      ],
      "metadata": {
        "id": "DM_vUNS9nr7Y"
      },
      "execution_count": null,
      "outputs": []
    },
    {
      "cell_type": "markdown",
      "source": [
        "\n",
        "\n",
        "*  *Codercise I.7.3 -Universality of H and T*"
      ],
      "metadata": {
        "id": "2TQhhJfQFVU1"
      }
    },
    {
      "cell_type": "code",
      "source": [
        "dev = qml.device(\"default.qubit\", wires=1)\n",
        "\n",
        "\n",
        "@qml.qnode(dev)\n",
        "def unitary_with_h_and_t():\n",
        "    ##################\n",
        "    # YOUR CODE HERE #\n",
        "    ##################\n",
        "    qml.Hadamard(0)\n",
        "    qml.T(0)\n",
        "    qml.Hadamard(0)\n",
        "    qml.T(0)\n",
        "    qml.T(0)\n",
        "    qml.Hadamard(0)\n",
        "    # APPLY ONLY H AND T TO PRODUCE A CIRCUIT THAT EFFECTS THE GIVEN MATRIX\n",
        "\n",
        "    return qml.state()"
      ],
      "metadata": {
        "id": "VSMbCyR-n2EB"
      },
      "execution_count": null,
      "outputs": []
    },
    {
      "cell_type": "markdown",
      "source": [
        "\n",
        "\n",
        "5.   **Prepare Yourself**\n"
      ],
      "metadata": {
        "id": "XipmIkTxFgoF"
      }
    },
    {
      "cell_type": "markdown",
      "source": [
        "\n",
        "\n",
        "*   *Codercise I.8.1 -State preparation*"
      ],
      "metadata": {
        "id": "2f75VrW3GqKM"
      }
    },
    {
      "cell_type": "code",
      "source": [
        "dev = qml.device(\"default.qubit\", wires=1)\n",
        "\n",
        "\n",
        "@qml.qnode(dev)\n",
        "def prepare_state():\n",
        "    ##################\n",
        "    # YOUR CODE HERE #\n",
        "    ##################\n",
        "    qml.Hadamard(0)\n",
        "    qml.T(0)\n",
        "    qml.T(0)\n",
        "    qml.T(0)\n",
        "    qml.T(0)\n",
        "    qml.T(0)\n",
        "    # APPLY OPERATIONS TO PREPARE THE TARGET STATE\n",
        "\n",
        "    return qml.state()"
      ],
      "metadata": {
        "id": "AsTI7uQ-oHtr"
      },
      "execution_count": null,
      "outputs": []
    },
    {
      "cell_type": "markdown",
      "source": [
        "\n",
        "\n",
        "*   *Codercise I.8.2 -State preparation*"
      ],
      "metadata": {
        "id": "_0dH7NyZG5SX"
      }
    },
    {
      "cell_type": "code",
      "source": [
        "dev = qml.device(\"default.qubit\", wires=1)\n",
        "\n",
        "\n",
        "@qml.qnode(dev)\n",
        "def prepare_state():\n",
        "    ##################\n",
        "    # YOUR CODE HERE #\n",
        "    ##################\n",
        "    qml.RX(np.pi/3, wires=0)\n",
        "    # APPLY OPERATIONS TO PREPARE THE TARGET STATE\n",
        "\n",
        "    return qml.state()"
      ],
      "metadata": {
        "id": "hgkkRiDeoPMR"
      },
      "execution_count": null,
      "outputs": []
    },
    {
      "cell_type": "markdown",
      "source": [
        "\n",
        "\n",
        "*  Codercise I.8.3 -State preparation with Mottonen's method*\n"
      ],
      "metadata": {
        "id": "xgkfwKtYHJI_"
      }
    },
    {
      "cell_type": "code",
      "source": [
        "v = np.array([0.52889389 - 0.14956775j, 0.67262317 + 0.49545818j])\n",
        "\n",
        "#################\n",
        "# YOUR CODE HERE #\n",
        "##################\n",
        "dev = qml.device(\"default.qubit\", wires=1)\n",
        "\n",
        "@qml.qnode(dev)\n",
        "\n",
        "# CREATE A DEVICE\n",
        "\n",
        "\n",
        "# CONSTRUCT A QNODE THAT USES qml.MottonenStatePreparation\n",
        "# TO PREPARE A QUBIT IN STATE V, AND RETURN THE STATE\n",
        "\n",
        "\n",
        "def prepare_state(state=v):\n",
        "    qml.MottonenStatePreparation(state, wires=0)\n",
        "    return qml.state()\n",
        "\n",
        "\n",
        "# This will draw the quantum circuit and allow you to inspect the output gates\n",
        "print(prepare_state(v))\n",
        "print()\n",
        "print(qml.draw(prepare_state, expansion_strategy=\"device\")(v))"
      ],
      "metadata": {
        "colab": {
          "base_uri": "https://localhost:8080/"
        },
        "id": "A2q2Qe3qoWGL",
        "outputId": "32674997-467e-44c1-b4db-5bd06406cb33"
      },
      "execution_count": null,
      "outputs": [
        {
          "output_type": "stream",
          "name": "stdout",
          "text": [
            "[0.52889389-0.14956775j 0.67262317+0.49545818j]\n",
            "\n",
            "0: ──RY(1.98)──RZ(0.91)──GlobalPhase(-0.18)─┤  State\n"
          ]
        }
      ]
    },
    {
      "cell_type": "markdown",
      "source": [
        "\n",
        "\n",
        "6.   **Measurements**\n"
      ],
      "metadata": {
        "id": "sXLt6XLGJD9T"
      }
    },
    {
      "cell_type": "markdown",
      "source": [
        "\n",
        "\n",
        "*   *Codercise I.9.1 -Measuring a superposition*\n"
      ],
      "metadata": {
        "id": "X_UwqAM1JUK0"
      }
    },
    {
      "cell_type": "code",
      "source": [
        "dev = qml.device(\"default.qubit\", wires=1)\n",
        "\n",
        "\n",
        "@qml.qnode(dev)\n",
        "def apply_h_and_measure(state):\n",
        "    \"\"\"Complete the function such that we apply the Hadamard gate\n",
        "    and measure in the computational basis.\n",
        "\n",
        "    Args:\n",
        "        state (int): Either 0 or 1. If 1, prepare the qubit in state |1>,\n",
        "            otherwise leave it in state 0.\n",
        "\n",
        "    Returns:\n",
        "        np.array[float]: The measurement outcome probabilities.\n",
        "    \"\"\"\n",
        "    if state == 1:\n",
        "        qml.PauliX(wires=0)\n",
        "    qml.Hadamard(0)\n",
        "\n",
        "\n",
        "    ##################\n",
        "    # YOUR CODE HERE #\n",
        "    ##################\n",
        "\n",
        "    # APPLY HADAMARD AND MEASURE\n",
        "\n",
        "    return qml.probs(wires=0)\n",
        "\n",
        "\n",
        "print(apply_h_and_measure(0))\n",
        "print(apply_h_and_measure(1))"
      ],
      "metadata": {
        "colab": {
          "base_uri": "https://localhost:8080/"
        },
        "id": "tet0j1o-ooTp",
        "outputId": "ae39af8a-5480-4868-bca4-6fa951a8e0b4"
      },
      "execution_count": null,
      "outputs": [
        {
          "output_type": "stream",
          "name": "stdout",
          "text": [
            "[0.5 0.5]\n",
            "[0.5 0.5]\n"
          ]
        }
      ]
    },
    {
      "cell_type": "markdown",
      "source": [
        "\n",
        "\n",
        "*  Codercise I.9.2 -Y basis rotation\n"
      ],
      "metadata": {
        "id": "imssGbeAJtCV"
      }
    },
    {
      "cell_type": "code",
      "source": [
        "##################\n",
        "# YOUR CODE HERE #\n",
        "##################\n",
        "\n",
        "\n",
        "# WRITE A QUANTUM FUNCTION THAT PREPARES (1/2)|0> + i(sqrt(3)/2)|1>\n",
        "\n",
        "def prepare_psi():\n",
        "    qml.RX(-2*np.pi/3, wires=0)\n",
        "    pass\n",
        "\n",
        "\n",
        "# WRITE A QUANTUM FUNCTION THAT SENDS BOTH |0> TO |y_+> and |1> TO |y_->\n",
        "def y_basis_rotation():\n",
        "    qml.Hadamard(wires=0)\n",
        "    qml.S(wires=0)\n",
        "    pass\n"
      ],
      "metadata": {
        "id": "b6DVpF2uoyP2"
      },
      "execution_count": null,
      "outputs": []
    },
    {
      "cell_type": "markdown",
      "source": [
        "\n",
        "\n",
        "*   *Codercise I.9.3 -Measurement in the Y basis\n"
      ],
      "metadata": {
        "id": "e7JxKII8J8tV"
      }
    },
    {
      "cell_type": "code",
      "source": [
        "dev = qml.device(\"default.qubit\", wires=1)\n",
        "\n",
        "\n",
        "@qml.qnode(dev)\n",
        "def measure_in_y_basis():\n",
        "    ##################\n",
        "    # YOUR CODE HERE #\n",
        "    ##################\n",
        "\n",
        "    # PREPARE THE STATE\n",
        "    prepare_psi()\n",
        "    # PERFORM THE ROTATION BACK TO COMPUTATIONAL BASIS\n",
        "    qml.adjoint(qml.S)(wires=0)\n",
        "    qml.adjoint(qml.Hadamard)(wires=0)\n",
        "\n",
        "    # RETURN THE MEASUREMENT OUTCOME PROBABILITIES\n",
        "\n",
        "    return qml.probs(wires=0)\n",
        "\n",
        "\n",
        "print(measure_in_y_basis())\n"
      ],
      "metadata": {
        "colab": {
          "base_uri": "https://localhost:8080/"
        },
        "id": "0WN_UjBno7iq",
        "outputId": "ef280d0c-d015-432f-adcb-567532119ddd"
      },
      "execution_count": null,
      "outputs": [
        {
          "output_type": "stream",
          "name": "stdout",
          "text": [
            "[0.9330127 0.0669873]\n"
          ]
        }
      ]
    },
    {
      "cell_type": "markdown",
      "source": [
        "\n",
        "\n",
        "7.   **What Did You Expect?**\n"
      ],
      "metadata": {
        "id": "WOfkAIo7Ka7p"
      }
    },
    {
      "cell_type": "markdown",
      "source": [
        "\n",
        "\n",
        "*   *Codercise I.10.1 -Measurement of the PauliY observable*\n"
      ],
      "metadata": {
        "id": "DKYX975GK_Cc"
      }
    },
    {
      "cell_type": "code",
      "source": [
        "dev = qml.device(\"default.qubit\", wires=1)\n",
        "\n",
        "\n",
        "@qml.qnode(dev)\n",
        "def circuit():\n",
        "    ##################\n",
        "    # YOUR CODE HERE #\n",
        "    ##################\n",
        "    qml.RX(np.pi/4, wires=0)\n",
        "    qml.Hadamard(0)\n",
        "    qml.PauliZ(0)\n",
        "    # IMPLEMENT THE CIRCUIT IN THE PICTURE AND MEASURE PAULI Y\n",
        "\n",
        "    return qml.expval(qml.PauliY(wires=0))\n",
        "\n",
        "\n",
        "print(circuit())"
      ],
      "metadata": {
        "colab": {
          "base_uri": "https://localhost:8080/"
        },
        "id": "8HYhLx9XpK_f",
        "outputId": "924d05e3-84ae-4d41-c121-e48d8846d0ce"
      },
      "execution_count": null,
      "outputs": [
        {
          "output_type": "stream",
          "name": "stdout",
          "text": [
            "-0.7071067811865471\n"
          ]
        }
      ]
    },
    {
      "cell_type": "markdown",
      "source": [
        "\n",
        "\n",
        "*   *Codercise I.10.2 -Setting up the number of experiment shots*\n"
      ],
      "metadata": {
        "id": "smA-E4jNLewO"
      }
    },
    {
      "cell_type": "code",
      "source": [
        "# An array to store your results\n",
        "shot_results = []\n",
        "\n",
        "# Different numbers of shots\n",
        "shot_values = [100, 1000, 10000, 100000, 1000000]\n",
        "\n",
        "for shots in shot_values:\n",
        "    ##################\n",
        "    # YOUR CODE HERE #\n",
        "    ##################\n",
        "\n",
        "    # CREATE A DEVICE, CREATE A QNODE, AND RUN IT\n",
        "    dev = qml.device('default.qubit', wires=1, shots=shots)\n",
        "    @qml.qnode(dev)\n",
        "    def circuit():\n",
        "         qml.RX(np.pi/4, wires=0)\n",
        "         qml.Hadamard(0)\n",
        "         qml.PauliZ(0)\n",
        "    # IMPLEMENT THE CIRCUIT IN THE PICTURE AND MEASURE PAULI Y\n",
        "         return qml.expval(qml.PauliY(wires=0))\n",
        "    print(circuit())\n",
        "    shot_results.append(circuit())\n",
        "    # STORE RESULT IN SHOT_RESULTS ARRAY\n",
        "    pass\n",
        "\n",
        "print(qml.math.unwrap(shot_results))"
      ],
      "metadata": {
        "colab": {
          "base_uri": "https://localhost:8080/"
        },
        "id": "N7Hq5Q13pT7h",
        "outputId": "b17424fe-83c9-42b1-e23b-ffb69a4fa1e9"
      },
      "execution_count": null,
      "outputs": [
        {
          "output_type": "stream",
          "name": "stdout",
          "text": [
            "-0.76\n",
            "-0.736\n",
            "-0.7022\n",
            "-0.70608\n",
            "-0.707516\n",
            "[-0.7, -0.702, -0.7002, -0.70606, -0.706424]\n"
          ]
        }
      ]
    },
    {
      "cell_type": "markdown",
      "source": [
        "\n",
        "\n",
        "*   *Codercise I.10.3 -Evaluation the samples*\n",
        "\n",
        "\n"
      ],
      "metadata": {
        "id": "Z5R2k-CZL0A0"
      }
    },
    {
      "cell_type": "code",
      "source": [
        "dev = qml.device(\"default.qubit\", wires=1, shots=100000)\n",
        "\n",
        "\n",
        "@qml.qnode(dev)\n",
        "def circuit():\n",
        "    qml.RX(np.pi / 4, wires=0)\n",
        "    qml.Hadamard(wires=0)\n",
        "    qml.PauliZ(wires=0)\n",
        "\n",
        "    ##################\n",
        "    # YOUR CODE HERE #\n",
        "    ##################\n",
        "\n",
        "    # RETURN THE MEASUREMENT SAMPLES OF THE CORRECT OBSERVABLE\n",
        "\n",
        "    return qml.sample(qml.PauliY(wires=0))\n",
        "\n",
        "\n",
        "def compute_expval_from_samples(samples):\n",
        "    \"\"\"Compute the expectation value of an observable given a set of\n",
        "    sample outputs. You can assume that there are two possible outcomes,\n",
        "    1 and -1.\n",
        "\n",
        "    Args:\n",
        "        samples (np.array[float]): 100000 samples representing the results of\n",
        "            running the above circuit.\n",
        "\n",
        "    Returns:\n",
        "        float: the expectation value computed based on samples.\n",
        "    \"\"\"\n",
        "\n",
        "    estimated_expval = 0\n",
        "\n",
        "    ##################\n",
        "    # YOUR CODE HERE #\n",
        "    ##################\n",
        "    num_of_one = 0\n",
        "    num_of_negative_one = 0\n",
        "\n",
        "    for val in samples:\n",
        "        if val == 1:\n",
        "            num_of_one += 1\n",
        "        else:\n",
        "            num_of_negative_one += 1\n",
        "\n",
        "    estimated_expval = (num_of_one* 1 - num_of_negative_one* 1)/len(samples)\n",
        "    # USE THE SAMPLES TO ESTIMATE THE EXPECTATION VALUE\n",
        "\n",
        "    return estimated_expval\n",
        "\n",
        "\n",
        "samples = circuit()\n",
        "print(compute_expval_from_samples(samples))"
      ],
      "metadata": {
        "colab": {
          "base_uri": "https://localhost:8080/"
        },
        "id": "5GTGQ9wqpeGS",
        "outputId": "e07a6ac1-ad1d-4690-ad70-875d5f0eff10"
      },
      "execution_count": null,
      "outputs": [
        {
          "output_type": "stream",
          "name": "stdout",
          "text": [
            "-0.70708\n"
          ]
        }
      ]
    },
    {
      "cell_type": "markdown",
      "source": [
        "\n",
        "\n",
        "*   *Codercise I.10.4 -The variance of sample measurements*\n"
      ],
      "metadata": {
        "id": "pmVkHusjMH3r"
      }
    },
    {
      "cell_type": "code",
      "source": [
        "def variance_experiment(n_shots):\n",
        "    \"\"\"Run an experiment to determine the variance in an expectation\n",
        "    value computed with a given number of shots.\n",
        "\n",
        "    Args:\n",
        "        n_shots (int): The number of shots\n",
        "\n",
        "    Returns:\n",
        "        float: The variance in expectation value we obtain running the\n",
        "        circuit 100 times with n_shots shots each.\n",
        "    \"\"\"\n",
        "\n",
        "    # To obtain a variance, we run the circuit multiple times at each shot value.\n",
        "    n_trials = 100\n",
        "\n",
        "    ##################\n",
        "    # YOUR CODE HERE #\n",
        "    ##################\n",
        "\n",
        "    # CREATE A DEVICE WITH GIVEN NUMBER OF SHOTS\n",
        "\n",
        "    # DECORATE THE CIRCUIT BELOW TO CREATE A QNODE\n",
        "    dev = qml.device(\"default.qubit\", wires=1, shots=100)\n",
        "    @qml.qnode(dev)\n",
        "    def circuit():\n",
        "        qml.Hadamard(wires=0)\n",
        "        return qml.expval(qml.PauliZ(wires=0))\n",
        "    variance = []\n",
        "    for _ in range(n_trials):\n",
        "      variance.append(circuit())\n",
        "    # RUN THE QNODE N_TRIALS TIMES AND RETURN THE VARIANCE OF THE RESULTS\n",
        "\n",
        "    return np.var(variance)\n",
        "\n",
        "\n",
        "def variance_scaling(n_shots):\n",
        "    \"\"\"Once you have determined how the variance in expectation value scales\n",
        "    with the number of shots, complete this function to programmatically\n",
        "    represent the relationship.\n",
        "\n",
        "    Args:\n",
        "        n_shots (int): The number of shots\n",
        "\n",
        "    Returns:\n",
        "        float: The variance in expectation value we expect to see when we run\n",
        "        an experiment with n_shots shots.\n",
        "    \"\"\"\n",
        "\n",
        "    estimated_variance = 0\n",
        "\n",
        "    ##################\n",
        "    # YOUR CODE HERE #\n",
        "    ##################\n",
        "\n",
        "    # ESTIMATE THE VARIANCE BASED ON SHOT NUMBER\n",
        "    estimated_variance = 1 / n_shots\n",
        "    return estimated_variance\n",
        "\n",
        "\n",
        "# Various numbers of shots; you can change this\n",
        "shot_vals = [10, 20, 40, 100, 200, 400, 1000, 2000, 4000]\n",
        "\n",
        "# Used to plot your results\n",
        "results_experiment = [variance_experiment(shots) for shots in shot_vals]\n",
        "results_scaling = [variance_scaling(shots) for shots in shot_vals]\n",
        "plot = plt.plot(shot_vals, results_experiment, results_scaling)"
      ],
      "metadata": {
        "colab": {
          "base_uri": "https://localhost:8080/",
          "height": 430
        },
        "id": "kXNB17YSpoOS",
        "outputId": "5b7f933a-617d-4e28-856c-f6c3cbe85fa0"
      },
      "execution_count": 6,
      "outputs": [
        {
          "output_type": "display_data",
          "data": {
            "text/plain": [
              "<Figure size 640x480 with 1 Axes>"
            ],
            "image/png": "[encoded data removed]"
          },
          "metadata": {}
        }
      ]
    },
    {
      "cell_type": "markdown",
      "source": [
        "# Circuits with Many Qubits"
      ],
      "metadata": {
        "id": "tttk2S2qMgZZ"
      }
    },
    {
      "cell_type": "markdown",
      "source": [
        "\n",
        "\n",
        "1.   **Multi-Qubit Systems**"
      ],
      "metadata": {
        "id": "pfhTIyHAM2J3"
      }
    },
    {
      "cell_type": "markdown",
      "source": [
        "\n",
        "\n",
        "*   *Codercise I.11.1 -Preparing basis state*"
      ],
      "metadata": {
        "id": "ZNPdw5XnNJfc"
      }
    },
    {
      "cell_type": "code",
      "source": [
        "num_wires = 3\n",
        "dev = qml.device(\"default.qubit\", wires=num_wires)\n",
        "\n",
        "\n",
        "@qml.qnode(dev)\n",
        "def make_basis_state(basis_id):\n",
        "    \"\"\"Produce the 3-qubit basis state corresponding to |basis_id>.\n",
        "\n",
        "    Note that the system starts in |000>.\n",
        "\n",
        "    Args:\n",
        "        basis_id (int): An integer value identifying the basis state to construct.\n",
        "\n",
        "    Returns:\n",
        "        np.array[complex]: The computational basis state |basis_id>.\n",
        "    \"\"\"\n",
        "\n",
        "    ##################\n",
        "    # YOUR CODE HERE #\n",
        "    ##################\n",
        "    # CREATE THE BASIS STATE\n",
        "    qml.BasisEmbedding(features=basis_id, wires=range(3))\n",
        "    return qml.state()\n",
        "\n",
        "\n",
        "basis_id = 3\n",
        "print(f\"Output state = {make_basis_state(basis_id)}\")"
      ],
      "metadata": {
        "colab": {
          "base_uri": "https://localhost:8080/"
        },
        "id": "6ALWzqKFp7sp",
        "outputId": "64aef6c2-f750-4dc6-9d61-b0c22bdca75c"
      },
      "execution_count": null,
      "outputs": [
        {
          "output_type": "stream",
          "name": "stdout",
          "text": [
            "Output state = [0.+0.j 0.+0.j 0.+0.j 1.+0.j 0.+0.j 0.+0.j 0.+0.j 0.+0.j]\n"
          ]
        }
      ]
    },
    {
      "cell_type": "markdown",
      "source": [
        "\n",
        "\n",
        "*  *Codercise I.11.2 -Separable Operations*"
      ],
      "metadata": {
        "id": "L3cf-MXaNrvK"
      }
    },
    {
      "cell_type": "code",
      "source": [
        "# Creates a device with *two* qubits\n",
        "dev = qml.device(\"default.qubit\", wires=2)\n",
        "\n",
        "\n",
        "@qml.qnode(dev)\n",
        "def two_qubit_circuit():\n",
        "    ##################\n",
        "    # YOUR CODE HERE #\n",
        "    ##################\n",
        "\n",
        "    # PREPARE |+>|1>\n",
        "\n",
        "    qml.Hadamard(0)\n",
        "    qml.PauliX(1)\n",
        "\n",
        "    # RETURN TWO EXPECTATION VALUES, Y ON FIRST QUBIT, Z ON SECOND QUBIT\n",
        "\n",
        "    return qml.expval(qml.PauliY(0)), qml.expval(qml.PauliZ(1))\n",
        "\n",
        "\n",
        "print(two_qubit_circuit())\n"
      ],
      "metadata": {
        "colab": {
          "base_uri": "https://localhost:8080/"
        },
        "id": "Q3vqmDoFqFDR",
        "outputId": "ac65d1c0-4c54-428c-f691-75de50ce5948"
      },
      "execution_count": null,
      "outputs": [
        {
          "output_type": "stream",
          "name": "stdout",
          "text": [
            "(tensor(0., requires_grad=True), tensor(-1., requires_grad=True))\n"
          ]
        }
      ]
    },
    {
      "cell_type": "markdown",
      "source": [
        "\n",
        "\n",
        "*   *Codercise I.11.3 -Expectation value of two-qubit observable*\n"
      ],
      "metadata": {
        "id": "cMA-QK0mOHUN"
      }
    },
    {
      "cell_type": "code",
      "source": [
        "dev = qml.device(\"default.qubit\", wires=2)\n",
        "\n",
        "\n",
        "@qml.qnode(dev)\n",
        "def create_one_minus():\n",
        "    ##################\n",
        "    # YOUR CODE HERE #\n",
        "    ##################\n",
        "\n",
        "    # PREPARE |1>|->\n",
        "    qml.PauliX(0)\n",
        "    qml.PauliX(1)\n",
        "    qml.Hadamard(1)\n",
        "    # RETURN A SINGLE EXPECTATION VALUE Z \\otimes X\n",
        "\n",
        "    return  qml.expval(qml.PauliZ(0) @ qml.PauliX(1))\n",
        "\n",
        "\n",
        "print(create_one_minus())\n"
      ],
      "metadata": {
        "colab": {
          "base_uri": "https://localhost:8080/"
        },
        "id": "gcZIiMhpqQ67",
        "outputId": "ba039fea-9955-40ea-b5b1-f26c353eb8d3"
      },
      "execution_count": null,
      "outputs": [
        {
          "output_type": "stream",
          "name": "stdout",
          "text": [
            "0.9999999999999996\n"
          ]
        }
      ]
    },
    {
      "cell_type": "markdown",
      "source": [
        "\n",
        "\n",
        "*   *Codercise I.11.4 -Double Trouble*"
      ],
      "metadata": {
        "id": "yAUXT6n8Od2k"
      }
    },
    {
      "cell_type": "code",
      "source": [
        "dev = qml.device(\"default.qubit\", wires=2)\n",
        "\n",
        "\n",
        "@qml.qnode(dev)\n",
        "def circuit_1(theta):\n",
        "    \"\"\"Implement the circuit and measure Z I and I Z.\n",
        "\n",
        "    Args:\n",
        "        theta (float): a rotation angle.\n",
        "\n",
        "    Returns:\n",
        "        float, float: The expectation values of the observables Z I, and I Z\n",
        "    \"\"\"\n",
        "    ##################\n",
        "    # YOUR CODE HERE #\n",
        "    ##################\n",
        "    qml.RX(theta,wires=0)\n",
        "    qml.RY(2*theta,wires=1)\n",
        "    return qml.expval(qml.PauliZ(0)),qml.expval(qml.PauliZ(1))\n",
        "\n",
        "\n",
        "@qml.qnode(dev)\n",
        "def circuit_2(theta):\n",
        "    \"\"\"Implement the circuit and measure Z Z.\n",
        "\n",
        "    Args:\n",
        "        theta (float): a rotation angle.\n",
        "\n",
        "    Returns:\n",
        "        float: The expectation value of the observable Z Z\n",
        "    \"\"\"\n",
        "\n",
        "    ##################\n",
        "    # YOUR CODE HERE #\n",
        "    ##################\n",
        "    qml.RX(theta,wires=0)\n",
        "    qml.RY(2*theta,wires=1)\n",
        "    return qml.expval(qml.PauliZ(0)@ qml.PauliZ(1))\n",
        "\n",
        "\n",
        "def zi_iz_combination(ZI_results, IZ_results):\n",
        "    \"\"\"Implement a function that acts on the ZI and IZ results to\n",
        "    produce the ZZ results. How do you think they should combine?\n",
        "\n",
        "    Args:\n",
        "        ZI_results (np.array[float]): Results from the expectation value of\n",
        "            ZI in circuit_1.\n",
        "        IZ_results (np.array[float]): Results from the expectation value of\n",
        "            IZ in circuit_2.\n",
        "\n",
        "    Returns:\n",
        "        np.array[float]: A combination of ZI_results and IZ_results that\n",
        "        produces results equivalent to measuring ZZ.\n",
        "    \"\"\"\n",
        "\n",
        "    combined_results=np.zeros(len(ZI_results))\n",
        "\n",
        "    ##################\n",
        "    # YOUR CODE HERE #\n",
        "    ##################\n",
        "    for i in range(len(ZI_results)):\n",
        "                    combined_results[i]=(ZI_results[i]*IZ_results[i])\n",
        "\n",
        "\n",
        "    return combined_results\n",
        "\n",
        "\n",
        "theta = np.linspace(0, 2 * np.pi, 100)\n",
        "\n",
        "# Run circuit 1, and process the results\n",
        "circuit_1_results = np.array([circuit_1(t) for t in theta])\n",
        "\n",
        "ZI_results = circuit_1_results[:, 0]\n",
        "IZ_results = circuit_1_results[:, 1]\n",
        "combined_results = zi_iz_combination(ZI_results, IZ_results)\n",
        "\n",
        "# Run circuit 2\n",
        "ZZ_results = np.array([circuit_2(t) for t in theta])\n",
        "\n",
        "# Plot your results\n",
        "plot = plt.plot(theta, ZI_results, IZ_results, ZZ_results, combined_results)"
      ],
      "metadata": {
        "colab": {
          "base_uri": "https://localhost:8080/",
          "height": 430
        },
        "id": "12vAP6WKqc8g",
        "outputId": "d97ebba4-fcd7-4b6d-d57c-5151f3c16efb"
      },
      "execution_count": 7,
      "outputs": [
        {
          "output_type": "display_data",
          "data": {
            "text/plain": [
              "<Figure size 640x480 with 1 Axes>"
            ],
            "image/png": "[encoded data removed]"
          },
          "metadata": {}
        }
      ]
    },
    {
      "cell_type": "markdown",
      "source": [
        "\n",
        "2.   **All Tied Up**"
      ],
      "metadata": {
        "id": "wgGMZbCuOvTY"
      }
    },
    {
      "cell_type": "markdown",
      "source": [
        "\n",
        "\n",
        "*   *Codercise I.12.1 -Entangling Opearations*"
      ],
      "metadata": {
        "id": "3bDNxzy3P19g"
      }
    },
    {
      "cell_type": "code",
      "source": [
        "num_wires = 2\n",
        "dev = qml.device(\"default.qubit\", wires=num_wires)\n",
        "\n",
        "\n",
        "@qml.qnode(dev)\n",
        "def apply_cnot(basis_id):\n",
        "    \"\"\"Apply a CNOT to |basis_id>.\n",
        "\n",
        "    Args:\n",
        "        basis_id (int): An integer value identifying the basis state to construct.\n",
        "\n",
        "    Returns:\n",
        "        np.array[complex]: The resulting state after applying CNOT|basis_id>.\n",
        "    \"\"\"\n",
        "\n",
        "    # Prepare the basis state |basis_id>\n",
        "    bits = [int(x) for x in np.binary_repr(basis_id, width=num_wires)]\n",
        "    qml.BasisStatePreparation(bits, wires=[0, 1])\n",
        "\n",
        "    ##################\n",
        "    # YOUR CODE HERE #\n",
        "    ##################\n",
        "\n",
        "    qml.CNOT(wires=[0, 1])\n",
        "\n",
        "\n",
        "\n",
        "    # APPLY THE CNOT\n",
        "\n",
        "    return qml.state()\n",
        "\n",
        "##################\n",
        "# YOUR CODE HERE #\n",
        "##################\n",
        "\n",
        "# REPLACE THE BIT STRINGS VALUES BELOW WITH THE CORRECT ONES\n",
        "cnot_truth_table = {\"00\": \"00\", \"01\": \"01\", \"10\": \"11\", \"11\": \"10\"}\n",
        "\n",
        "\n",
        "# Run your QNode with various inputs to help fill in your truth table\n",
        "print(apply_cnot(0))"
      ],
      "metadata": {
        "colab": {
          "base_uri": "https://localhost:8080/"
        },
        "id": "TmIJC6jOqwfY",
        "outputId": "1728256c-87b0-463d-d799-e560bc322081"
      },
      "execution_count": null,
      "outputs": [
        {
          "output_type": "stream",
          "name": "stdout",
          "text": [
            "[1.+0.j 0.+0.j 0.+0.j 0.+0.j]\n"
          ]
        }
      ]
    },
    {
      "cell_type": "markdown",
      "source": [
        "\n",
        "\n",
        "*  Codercise I.12.2 -Separable or entangled?\n",
        "\n"
      ],
      "metadata": {
        "id": "xlk4h_2YQOMs"
      }
    },
    {
      "cell_type": "code",
      "source": [
        "dev = qml.device(\"default.qubit\", wires=2)\n",
        "\n",
        "\n",
        "@qml.qnode(dev)\n",
        "def apply_h_cnot():\n",
        "    ##################\n",
        "    # YOUR CODE HERE #\n",
        "    ##################\n",
        "\n",
        "    # APPLY THE OPERATIONS IN THE CIRCUIT\n",
        "    qml.Hadamard(0)\n",
        "    qml.CNOT(wires=[0, 1])\n",
        "    return qml.state()\n",
        "\n",
        "\n",
        "print(apply_h_cnot())\n",
        "\n",
        "##################\n",
        "# YOUR CODE HERE #\n",
        "##################\n",
        "\n",
        "# SET THIS AS 'separable' OR 'entangled' BASED ON YOUR OUTCOME\n",
        "state_status = \"entangled\"\n"
      ],
      "metadata": {
        "colab": {
          "base_uri": "https://localhost:8080/"
        },
        "id": "VhIQgzT1q666",
        "outputId": "881185aa-5150-452b-9140-94babc7aa287"
      },
      "execution_count": null,
      "outputs": [
        {
          "output_type": "stream",
          "name": "stdout",
          "text": [
            "[0.70710678+0.j 0.        +0.j 0.        +0.j 0.70710678+0.j]\n"
          ]
        }
      ]
    },
    {
      "cell_type": "markdown",
      "source": [
        "\n",
        "\n",
        "*   *Codercise I.12.3 -Controlled rotations*\n",
        "\n"
      ],
      "metadata": {
        "id": "p-A4_HOaQlDw"
      }
    },
    {
      "cell_type": "code",
      "source": [
        "dev = qml.device(\"default.qubit\", wires=3)\n",
        "\n",
        "\n",
        "@qml.qnode(dev)\n",
        "def controlled_rotations(theta, phi, omega):\n",
        "    \"\"\"Implement the circuit above and return measurement outcome probabilities.\n",
        "\n",
        "    Args:\n",
        "        theta (float): A rotation angle\n",
        "        phi (float): A rotation angle\n",
        "        omega (float): A rotation angle\n",
        "\n",
        "    Returns:\n",
        "        np.array[float]: Measurement outcome probabilities of the 3-qubit\n",
        "        computational basis states.\n",
        "    \"\"\"\n",
        "\n",
        "    ##################\n",
        "    # YOUR CODE HERE #\n",
        "    ##################\n",
        "    qml.Hadamard(0)\n",
        "    qml.CRX(theta, wires=[0, 1])\n",
        "    qml.CRY(phi, wires=[1, 2])\n",
        "    qml.CRZ(omega, wires=[2, 0])\n",
        "    return qml.probs(wires=[0, 1,2])\n",
        "    # APPLY THE OPERATIONS IN THE CIRCUIT AND RETURN MEASUREMENT PROBABILITIES\n",
        "\n",
        "\n",
        "\n",
        "theta, phi, omega = 0.1, 0.2, 0.3\n",
        "print(controlled_rotations(theta, phi, omega))"
      ],
      "metadata": {
        "colab": {
          "base_uri": "https://localhost:8080/"
        },
        "id": "1zQUXra5rHdw",
        "outputId": "f3a5037d-91cd-4e1b-cf76-237e8870fd92"
      },
      "execution_count": null,
      "outputs": [
        {
          "output_type": "stream",
          "name": "stdout",
          "text": [
            "[5.00000000e-01 0.00000000e+00 0.00000000e+00 0.00000000e+00\n",
            " 4.98751041e-01 0.00000000e+00 1.23651067e-03 1.24480103e-05]\n"
          ]
        }
      ]
    },
    {
      "cell_type": "markdown",
      "source": [
        "\n",
        "\n",
        "3.   **We've Got It Under Control**\n"
      ],
      "metadata": {
        "id": "tFJk9iAyRUKL"
      }
    },
    {
      "cell_type": "markdown",
      "source": [
        "\n",
        "\n",
        "*   *Codercise I.13.1 -The imposter CZ*"
      ],
      "metadata": {
        "id": "8jWUJwIhRfbf"
      }
    },
    {
      "cell_type": "code",
      "source": [
        "dev = qml.device(\"default.qubit\", wires=2)\n",
        "\n",
        "# Prepare a two-qubit state; change up the angles if you like\n",
        "phi, theta, omega = 1.2, 2.3, 3.4\n",
        "\n",
        "def prepare_states(phi, theta, omega):\n",
        "    \"\"\"Prepares the initial state of the qubits.\"\"\"\n",
        "    qml.RX(phi, wires=0)\n",
        "    qml.RY(theta, wires=1)\n",
        "    qml.RZ(omega, wires=0)\n",
        "\n",
        "@qml.qnode(device=dev)\n",
        "def true_cz(phi, theta, omega):\n",
        "    prepare_states(phi, theta, omega)\n",
        "\n",
        "    ##################\n",
        "    # YOUR CODE HERE #\n",
        "    ##################\n",
        "    qml.CZ(wires=[0,1])\n",
        "    # IMPLEMENT THE REGULAR CZ GATE HERE\n",
        "\n",
        "    return qml.state()\n",
        "\n",
        "\n",
        "@qml.qnode(dev)\n",
        "def imposter_cz(phi, theta, omega):\n",
        "    prepare_states(phi, theta, omega)\n",
        "\n",
        "    ##################\n",
        "    # YOUR CODE HERE #\n",
        "    ##################\n",
        "\n",
        "    # IMPLEMENT CZ USING ONLY H AND CNOT\n",
        "    qml.Hadamard(1)\n",
        "    qml.CNOT(wires=[0, 1])\n",
        "    qml.Hadamard(1)\n",
        "    return qml.state()\n",
        "\n",
        "\n",
        "print(f\"True CZ output state {true_cz(phi, theta, omega)}\")\n",
        "print(f\"Imposter CZ output state {imposter_cz(phi, theta, omega)}\")"
      ],
      "metadata": {
        "colab": {
          "base_uri": "https://localhost:8080/"
        },
        "id": "OfY0q7Exrabr",
        "outputId": "5c5416e8-492c-43f9-f6d6-899aeeb624c0"
      },
      "execution_count": 10,
      "outputs": [
        {
          "output_type": "stream",
          "name": "stdout",
          "text": [
            "True CZ output state [-0.04343853-0.33432911j -0.09706327-0.74705738j  0.22872685+0.0297179j\n",
            " -0.51108945-0.06640456j]\n",
            "Imposter CZ output state [-0.04343853-0.33432911j -0.09706327-0.74705738j  0.22872685+0.0297179j\n",
            " -0.51108945-0.06640456j]\n"
          ]
        }
      ]
    },
    {
      "cell_type": "markdown",
      "source": [
        "\n",
        "\n",
        "*   *Codercise I.13.2 -The SWAP gate*\n",
        "\n"
      ],
      "metadata": {
        "id": "yB-e1eLBR9tF"
      }
    },
    {
      "cell_type": "code",
      "source": [
        "dev = qml.device(\"default.qubit\", wires=2)\n",
        "\n",
        "# Prepare a two-qubit state; change up the angles if you like\n",
        "phi, theta, omega = 1.2, 2.3, 3.4\n",
        "\n",
        "\n",
        "@qml.qnode(dev)\n",
        "def apply_swap(phi, theta, omega):\n",
        "    prepare_states(phi, theta, omega)\n",
        "\n",
        "    ##################\n",
        "    # YOUR CODE HERE #\n",
        "    ##################\n",
        "    qml.SWAP(wires=[0, 1])\n",
        "    # IMPLEMENT THE REGULAR SWAP GATE HERE\n",
        "\n",
        "    return qml.state()\n",
        "\n",
        "\n",
        "@qml.qnode(dev)\n",
        "def apply_swap_with_cnots(phi, theta, omega):\n",
        "    prepare_states(phi, theta, omega)\n",
        "\n",
        "    ##################\n",
        "    # YOUR CODE HERE #\n",
        "    ##################\n",
        "    qml.CNOT(wires=[0, 1])\n",
        "    qml.CNOT(wires=[1, 0])\n",
        "    qml.CNOT(wires=[0, 1])\n",
        "    # IMPLEMENT THE SWAP GATE USING A SEQUENCE OF CNOTS\n",
        "\n",
        "    return qml.state()\n",
        "\n",
        "\n",
        "print(f\"Regular SWAP state = {apply_swap(phi, theta, omega)}\")\n",
        "print(f\"CNOT SWAP state = {apply_swap_with_cnots(phi, theta, omega)}\")"
      ],
      "metadata": {
        "colab": {
          "base_uri": "https://localhost:8080/"
        },
        "id": "SgD8559vrdgZ",
        "outputId": "ae561111-1a14-41d8-e367-aec999bed5f9"
      },
      "execution_count": 11,
      "outputs": [
        {
          "output_type": "stream",
          "name": "stdout",
          "text": [
            "Regular SWAP state = [-0.04343853-0.33432911j  0.22872685+0.0297179j  -0.09706327-0.74705738j\n",
            "  0.51108945+0.06640456j]\n",
            "CNOT SWAP state = [-0.04343853-0.33432911j  0.22872685+0.0297179j  -0.09706327-0.74705738j\n",
            "  0.51108945+0.06640456j]\n"
          ]
        }
      ]
    },
    {
      "cell_type": "markdown",
      "source": [
        "\n",
        "\n",
        "*  Codercise I.13.3 -The Toffoli gate"
      ],
      "metadata": {
        "id": "QT1XtC3ESMl9"
      }
    },
    {
      "cell_type": "code",
      "source": [
        "dev = qml.device(\"default.qubit\", wires=3)\n",
        "\n",
        "# Prepare first qubit in |1>, and arbitrary states on the second two qubits\n",
        "phi, theta, omega = 1.2, 2.3, 3.4\n",
        "\n",
        "\n",
        "# A helper function just so you can visualize the initial state\n",
        "# before the controlled SWAP occurs.\n",
        "@qml.qnode(dev)\n",
        "def no_swap(phi, theta, omega):\n",
        "    prepare_states(phi, theta, omega)\n",
        "    return qml.state()\n",
        "\n",
        "\n",
        "@qml.qnode(dev)\n",
        "def controlled_swap(phi, theta, omega):\n",
        "    prepare_states(phi, theta, omega)\n",
        "\n",
        "    ##################\n",
        "    # YOUR CODE HERE #\n",
        "    ##################\n",
        "    qml.Toffoli(wires=[0, 1, 2])\n",
        "    qml.Toffoli(wires=[0, 2, 1])\n",
        "    qml.Toffoli(wires=[0, 1, 2])\n",
        "\n",
        "    # PERFORM A CONTROLLED SWAP USING A SEQUENCE OF TOFFOLIS\n",
        "\n",
        "    return qml.state()\n",
        "\n",
        "\n",
        "print(no_swap(phi, theta, omega))\n",
        "print(controlled_swap(phi, theta, omega))\n"
      ],
      "metadata": {
        "colab": {
          "base_uri": "https://localhost:8080/"
        },
        "id": "QNwjR6fBrrnd",
        "outputId": "fcc34aca-2e24-4cda-e190-29b729103427"
      },
      "execution_count": 12,
      "outputs": [
        {
          "output_type": "stream",
          "name": "stdout",
          "text": [
            "[-0.04343853-0.33432911j  0.        +0.j         -0.09706327-0.74705738j\n",
            "  0.        +0.j          0.22872685+0.0297179j   0.        +0.j\n",
            "  0.51108945+0.06640456j  0.        +0.j        ]\n",
            "[-0.04343853-0.33432911j  0.        +0.j         -0.09706327-0.74705738j\n",
            "  0.        +0.j          0.22872685+0.0297179j   0.51108945+0.06640456j\n",
            "  0.        +0.j          0.        +0.j        ]\n"
          ]
        }
      ]
    },
    {
      "cell_type": "markdown",
      "source": [
        "\n",
        "\n",
        "\n",
        "*   *Codercise I.13.4 -Mixed Controlled Gates*"
      ],
      "metadata": {
        "id": "NO4roEagSaoP"
      }
    },
    {
      "cell_type": "code",
      "source": [
        "dev = qml.device(\"default.qubit\", wires=4)\n",
        "\n",
        "\n",
        "@qml.qnode(dev)\n",
        "def four_qubit_mcx():\n",
        "    ##################\n",
        "    # YOUR CODE HERE #\n",
        "    ##################\n",
        "\n",
        "    # IMPLEMENT THE CIRCUIT ABOVE USING A 4-QUBIT MULTI-CONTROLLED X\n",
        "    qml.Hadamard(0)\n",
        "    qml.Hadamard(1)\n",
        "    qml.Hadamard(2)\n",
        "    qml.MultiControlledX(control_wires=[0, 1, 2], wires=3, control_values=\"001\")\n",
        "    return qml.state()\n",
        "\n",
        "\n",
        "print(four_qubit_mcx())\n"
      ],
      "metadata": {
        "colab": {
          "base_uri": "https://localhost:8080/"
        },
        "id": "OCrwaCVur7Z7",
        "outputId": "eea8e4ef-d56a-4034-a06a-3f30516990bf"
      },
      "execution_count": null,
      "outputs": [
        {
          "output_type": "stream",
          "name": "stdout",
          "text": [
            "[0.35355339+0.j 0.        +0.j 0.        +0.j 0.35355339+0.j\n",
            " 0.35355339+0.j 0.        +0.j 0.35355339+0.j 0.        +0.j\n",
            " 0.35355339+0.j 0.        +0.j 0.35355339+0.j 0.        +0.j\n",
            " 0.35355339+0.j 0.        +0.j 0.35355339+0.j 0.        +0.j]\n"
          ]
        },
        {
          "output_type": "stream",
          "name": "stderr",
          "text": [
            "/usr/local/lib/python3.10/dist-packages/pennylane/ops/op_math/controlled_ops.py:1071: PennyLaneDeprecationWarning: Specifying control values using a bitstring is deprecated, and will not be supported in future releases, Use a list of booleans or integers instead.\n",
            "  warnings.warn(\n",
            "/usr/local/lib/python3.10/dist-packages/pennylane/ops/op_math/controlled_ops.py:1077: UserWarning: The control_wires keyword for MultiControlledX is deprecated, and will be removed soon. Use wires = (*control_wires, target_wire) instead.\n",
            "  warnings.warn(\n"
          ]
        }
      ]
    },
    {
      "cell_type": "markdown",
      "source": [
        "\n",
        "\n",
        "*   *Codercise I.13.5 -The 3-controlled-NOT*"
      ],
      "metadata": {
        "id": "ZVEBhb2QS5az"
      }
    },
    {
      "cell_type": "code",
      "source": [
        "# Wires 0, 1, 2 are the control qubits\n",
        "# Wire 3 is the auxiliary qubit\n",
        "# Wire 4 is the target\n",
        "dev = qml.device(\"default.qubit\", wires=5)\n",
        "\n",
        "\n",
        "@qml.qnode(dev)\n",
        "def four_qubit_mcx_only_tofs():\n",
        "    # We will initialize the control qubits in state |1> so you can see\n",
        "    # how the output state gets changed.\n",
        "    qml.PauliX(wires=0)\n",
        "    qml.PauliX(wires=1)\n",
        "    qml.PauliX(wires=2)\n",
        "\n",
        "    ##################\n",
        "    # YOUR CODE HERE #\n",
        "    ##################\n",
        "    qml.Toffoli(wires=[0, 1, 3])\n",
        "    qml.Toffoli(wires=[2, 3, 4])\n",
        "    qml.Toffoli(wires=[0, 1, 3])\n",
        "\n",
        "    # IMPLEMENT A 3-CONTROLLED NOT WITH TOFFOLIS\n",
        "\n",
        "    return qml.state()\n",
        "\n",
        "\n",
        "# print(four_qubit_mcx_only_tofs())"
      ],
      "metadata": {
        "id": "VxIhiOv1sFDT"
      },
      "execution_count": null,
      "outputs": []
    },
    {
      "cell_type": "markdown",
      "source": [
        "\n",
        "\n",
        "4.  **Multi-Qubit Gate Challenge**"
      ],
      "metadata": {
        "id": "M8cRKN2vTlWS"
      }
    },
    {
      "cell_type": "markdown",
      "source": [
        "\n",
        "\n",
        "*   *Codercise I.14.1 -The Bell states*\n"
      ],
      "metadata": {
        "id": "WkNSICxuT2u0"
      }
    },
    {
      "cell_type": "code",
      "source": [
        "dev = qml.device(\"default.qubit\", wires=2)\n",
        "\n",
        "# Starting from the state |00>, implement a PennyLane circuit\n",
        "# to construct each of the Bell basis states.\n",
        "\n",
        "\n",
        "@qml.qnode(dev)\n",
        "def prepare_psi_plus():\n",
        "    ##################\n",
        "    # YOUR CODE HERE #\n",
        "    ##################\n",
        "    qml.Hadamard(0)\n",
        "    qml.CNOT(wires=[0, 1])\n",
        "    # PREPARE (1/sqrt(2)) (|00> + |11>)\n",
        "\n",
        "    return qml.state()\n",
        "\n",
        "\n",
        "@qml.qnode(dev)\n",
        "def prepare_psi_minus():\n",
        "    ##################\n",
        "    # YOUR CODE HERE #\n",
        "    ##################\n",
        "    qml.PauliX(0)\n",
        "    qml.Hadamard(0)\n",
        "    qml.CNOT(wires=[0, 1])\n",
        "    # PREPARE (1/sqrt(2)) (|00> - |11>)\n",
        "\n",
        "    return qml.state()\n",
        "\n",
        "\n",
        "@qml.qnode(dev)\n",
        "def prepare_phi_plus():\n",
        "    ##################\n",
        "    # YOUR CODE HERE #\n",
        "    ##################\n",
        "    qml.Hadamard(0)\n",
        "    qml.PauliX(1)\n",
        "    qml.CNOT(wires=[0, 1])\n",
        "\n",
        "    # PREPARE  (1/sqrt(2)) (|01> + |10>)\n",
        "\n",
        "    return qml.state()\n",
        "\n",
        "\n",
        "@qml.qnode(dev)\n",
        "def prepare_phi_minus():\n",
        "    ##################\n",
        "    # YOUR CODE HERE #\n",
        "    ##################\n",
        "    qml.PauliX(0)\n",
        "    qml.Hadamard(0)\n",
        "    qml.PauliX(1)\n",
        "    qml.CNOT(wires=[0, 1])\n",
        "    # PREPARE  (1/sqrt(2)) (|01> - |10>)\n",
        "\n",
        "    return qml.state()\n",
        "\n",
        "\n",
        "psi_plus = prepare_psi_plus()\n",
        "psi_minus = prepare_psi_minus()\n",
        "phi_plus = prepare_phi_plus()\n",
        "phi_minus = prepare_phi_minus()\n",
        "\n",
        "# Uncomment to print results\n",
        "# print(f\"|ψ_+> = {psi_plus}\")\n",
        "# print(f\"|ψ_-> = {psi_minus}\")\n",
        "# print(f\"|ϕ_+> = {phi_plus}\")\n",
        "# print(f\"|ϕ_-> = {phi_minus}\")"
      ],
      "metadata": {
        "id": "7Ctj2ILAsbz1"
      },
      "execution_count": null,
      "outputs": []
    },
    {
      "cell_type": "markdown",
      "source": [
        "\n",
        "\n",
        "*   *Codercise I.14.2 -Quantum Multiplexer*\n"
      ],
      "metadata": {
        "id": "MD2RZEXzUGo7"
      }
    },
    {
      "cell_type": "code",
      "source": [
        "dev = qml.device(\"default.qubit\", wires=3)\n",
        "\n",
        "# State of first 2 qubits\n",
        "state = [0, 1]\n",
        "\n",
        "\n",
        "@qml.qnode(device=dev)\n",
        "def apply_control_sequence(state):\n",
        "    # Set up initial state of the first two qubits\n",
        "    if state[0] == 1:\n",
        "        qml.PauliX(wires=0)\n",
        "    if state[1] == 1:\n",
        "        qml.PauliX(wires=1)\n",
        "\n",
        "    # Set up initial state of the third qubit - use |->\n",
        "    # so we can see the effect on the output\n",
        "    qml.PauliX(wires=2)\n",
        "    qml.Hadamard(wires=2)\n",
        "\n",
        "\n",
        "\n",
        "\n",
        "    ##################\n",
        "    # YOUR CODE HERE #\n",
        "    ##################\n",
        "\n",
        "\n",
        "\n",
        "    # IMPLEMENT THE MULTIPLEXER\n",
        "    # IF STATE OF FIRST TWO QUBITS IS 01, APPLY X TO THIRD QUBIT\n",
        "    qml.PauliX(wires=0)\n",
        "    qml.Toffoli(wires=[0,1,2])\n",
        "    qml.PauliX(wires=0)\n",
        "    qml.PauliX(wires=1)\n",
        "\n",
        "    # IF STATE OF FIRST TWO QUBITS IS 10, APPLY Z TO THIRD QUBIT\n",
        "    qml.Hadamard(wires=2)\n",
        "    qml.Toffoli(wires=[0,1,2])\n",
        "    qml.Hadamard(wires=2)\n",
        "    # IF STATE OF FIRST TWO QUBITS IS 11, APPLY Y TO THIRD QUBIT\n",
        "    qml.PauliX(wires=1)\n",
        "    qml.adjoint(qml.S)(wires=2)\n",
        "    qml.Toffoli(wires=[0,1,2])\n",
        "    qml.S(wires=2)\n",
        "    return qml.state()\n",
        "\n",
        "\n",
        "print(apply_control_sequence(state))"
      ],
      "metadata": {
        "colab": {
          "base_uri": "https://localhost:8080/"
        },
        "id": "ifnHO4I-smk_",
        "outputId": "cc9cd648-f64f-4071-8b05-40ac36152c0a"
      },
      "execution_count": null,
      "outputs": [
        {
          "output_type": "stream",
          "name": "stdout",
          "text": [
            "[ 0.        +0.j  0.        +0.j -0.70710678+0.j  0.70710678+0.j\n",
            "  0.        +0.j  0.        +0.j  0.        +0.j  0.        +0.j]\n"
          ]
        }
      ]
    }
  ]
}